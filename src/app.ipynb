{
 "cells": [
  {
   "cell_type": "markdown",
   "id": "ac5e457b-0d2f-4044-9d7d-5be5a646749e",
   "metadata": {},
   "source": [
    "# Import Libraries"
   ]
  },
  {
   "cell_type": "code",
   "execution_count": null,
   "id": "2ebad9d2-9d87-43cb-9fa9-012813d8ba9a",
   "metadata": {},
   "outputs": [],
   "source": [
    "from dash import Dash, html, dcc, callback, Output, Input, State\n",
    "import dash_bootstrap_components as dbc\n",
    "import plotly.express as px\n",
    "import plotly.graph_objects as go\n",
    "\n",
    "import pandas as pd\n",
    "import numpy as np\n",
    "\n",
    "import json\n",
    "import os"
   ]
  },
  {
   "cell_type": "markdown",
   "id": "75e389f3-be75-4b97-bfe3-03aeba96f13c",
   "metadata": {},
   "source": [
    "# Initialize App "
   ]
  },
  {
   "cell_type": "code",
   "execution_count": null,
   "id": "7319c411-9219-41d2-81a4-3bf1a3882ceb",
   "metadata": {},
   "outputs": [],
   "source": [
    "app = Dash(\n",
    "    __name__,\n",
    "    external_stylesheets=[\n",
    "        dbc.themes.BOOTSTRAP,\n",
    "        dbc.icons.FONT_AWESOME\n",
    "    ]\n",
    ")"
   ]
  },
  {
   "cell_type": "markdown",
   "id": "ded4a7d9-4abd-45c3-aef3-2adf27a59e8e",
   "metadata": {},
   "source": [
    "# Load Data"
   ]
  },
  {
   "cell_type": "code",
   "execution_count": null,
   "id": "9dca788e-ff61-4673-8a4a-037b437ec536",
   "metadata": {},
   "outputs": [],
   "source": [
    "athlete_events_df = pd.read_csv(\"./assets/athlete_events.csv\")\n",
    "noc_regions = pd.read_csv(\"./assets/noc_regions.csv\")\n",
    "\n",
    "# athlete_events_df = athlete_events_df[athlete_events_df[\"Medal\"].notna()]\n",
    "\n",
    "# athlete_events_df.groupby([\"Weight\"])[\"Weight\"].count().reset_index(name=\"height_count\").sort_values(by=[\"height_count\"], ascending=False)\n",
    "\n",
    "# athlete_events_df.groupby([\"Name\", \"Medal\"])[\"Medal\"].count()\n",
    "# noc_medals_df = athlete_events_df.merge(noc_regions, on=\"NOC\", how=\"left\").rename(columns={\"region\":\"Region\"})\n",
    "# noc_medals_df = noc_medals_df.groupby([\"NOC\", \"Medal\"])[\"Medal\"].count().unstack(fill_value=0).stack().reset_index(name=\"Medal_Count\")\n",
    "# noc_medals_df[\"United States of America\"]\n",
    "# noc_medals_df[noc_medals_df[\"NOC\"] == \"USA\"]\n",
    "\n",
    "# athlete_events_df[(athlete_events_df[\"NOC\"] == \"USA\") & (athlete_events_df[\"Medal\"].notna())]\n",
    "# athlete_events_df.sort_values(by=[\"Weight\"], ascending=False)\n",
    "# athlete_events_df.drop_duplicates(subset=[\"Sport\"])"
   ]
  },
  {
   "cell_type": "markdown",
   "id": "1bf9dc23-ff3c-4953-8a24-d353cf994880",
   "metadata": {},
   "source": [
    "# Total Medal Count by Height and Weight, grouped by Sport (Heatmap Figure)"
   ]
  },
  {
   "cell_type": "code",
   "execution_count": null,
   "id": "06c87f92-25a6-45e9-9747-b31afba2c8f5",
   "metadata": {},
   "outputs": [],
   "source": [
    "# Group medal counts by height and weight\n",
    "height_weight_medal_df = athlete_events_df.dropna(subset=[\"Height\", \"Weight\"])\n",
    "height_weight_medal_df = height_weight_medal_df.groupby([\"Sport\", \"Height\", \"Weight\"])[\"Medal\"].count().reset_index(name=\"Medal_Count\")\n",
    "\n",
    "# List of medal counts by height and weight for each sport\n",
    "sports_df_list = {col:pd.pivot_table(sport, index=\"Height\", columns=\"Weight\", values=\"Medal_Count\").fillna(0) for (col, sport) in height_weight_medal_df.groupby('Sport')}\n",
    "\n",
    "# Initial heatmap figure\n",
    "heatmap_fig = go.Figure(\n",
    "    data=go.Heatmap(\n",
    "        x=sports_df_list[\"Archery\"].columns,\n",
    "        y=sports_df_list[\"Archery\"].index,\n",
    "        z=sports_df_list[\"Archery\"].values,\n",
    "        visible=True\n",
    "    )\n",
    ")\n",
    "heatmap_fig.update_layout(\n",
    "    title=\"Total Medals Won by Height and Weight in Archery\"\n",
    ")\n",
    "\n",
    "# Add heatmap traces for each sport\n",
    "for key in sports_df_list.keys():\n",
    "    heatmap_fig.add_traces(\n",
    "        data=go.Heatmap(\n",
    "            x=sports_df_list[key].columns,\n",
    "            y=sports_df_list[key].index,\n",
    "            z=sports_df_list[key].values,\n",
    "            visible=False\n",
    "        )\n",
    "    )\n",
    "\n",
    "# Create dropdown option for each sport\n",
    "sports_options = []\n",
    "for i, key in enumerate(sports_df_list.keys()):\n",
    "    visible_list = [False] * len(sports_df_list.keys())\n",
    "    visible_list[i] = True\n",
    "    \n",
    "    sports_options.append(dict(\n",
    "        label=key,\n",
    "        method=\"update\",\n",
    "        args=[\n",
    "            {\"visible\":visible_list},\n",
    "            {\"title\":f\"Total Medals Won by Height and Weight in {key}\"}\n",
    "        ]\n",
    "    ))\n",
    "heatmap_fig.update_layout(\n",
    "    autosize=False,\n",
    "    xaxis=dict(title=\"Weight (kg)\"),\n",
    "    yaxis=dict(title=\"Height (cm)\"),\n",
    "    updatemenus=[dict(\n",
    "        active=0,\n",
    "        buttons=sports_options,\n",
    "    )]\n",
    ")\n",
    "\n",
    "heatmap_fig.show()"
   ]
  },
  {
   "cell_type": "markdown",
   "id": "c5d94338-6de9-48ed-8e91-53e30c1924f0",
   "metadata": {},
   "source": [
    "# Interactive Map (Choropleth Figure)"
   ]
  },
  {
   "cell_type": "code",
   "execution_count": null,
   "id": "b78b8790-e5be-4983-b9c0-8eef12b2f559",
   "metadata": {},
   "outputs": [],
   "source": [
    "\n",
    "\n",
    "# Example Dataset and Choropleth Figure\n",
    "df = pd.read_csv(\"./assets/aid_data.csv\")\n",
    "df = df.dropna()\n",
    "\n",
    "# Dataframe for sum of donations given grouped by country\n",
    "donors_df = df.rename(columns={\"donor\":\"country\"}).sort_values(by=[\"commitment_amount_usd_constant\"], ascending=True).groupby([\"country\"])[\"commitment_amount_usd_constant\"].sum().reset_index(name=\"total_donated\")\n",
    "\n",
    "# Dataframe for sum of donations received grouped by country\n",
    "recipients_df = df.rename(columns={\"recipient\":\"country\"}).groupby([\"country\"])[\"commitment_amount_usd_constant\"].sum().reset_index(name=\"total_received\")\n",
    "\n",
    "# Dataframe for net donations grouped by country\n",
    "combined_df = pd.merge(donors_df, recipients_df, how=\"outer\", on=\"country\").fillna(0)\n",
    "combined_df[\"net\"] = combined_df[\"total_donated\"] - combined_df[\"total_received\"]\n",
    "\n",
    "# Choropleth figure\n",
    "fig_q1 = px.choropleth(combined_df,\n",
    "                        title=\"Net Donations by Country\",\n",
    "                        locations=\"country\",\n",
    "                        locationmode=\"country names\",\n",
    "                        color=\"net\",\n",
    "                        color_continuous_scale=\"PiYg\",\n",
    "                        hover_name=\"country\",\n",
    "                        range_color=[-4e6, 4e6],\n",
    "                        projection=\"natural earth\")\n",
    "\n",
    "fig_q1.show()"
   ]
  },
  {
   "cell_type": "markdown",
   "id": "164b363c-5927-471c-b8bc-3bfec4f543e9",
   "metadata": {},
   "source": [
    "# Dash Layout"
   ]
  },
  {
   "cell_type": "code",
   "execution_count": null,
   "id": "1da36ee4-6edd-4b3f-a07e-7cc8355b15da",
   "metadata": {},
   "outputs": [],
   "source": [
    "fig_q1.update_layout(clickmode='event+select')\n",
    "\n",
    "country = None\n",
    "\n",
    "app.layout = html.Div([\n",
    "    # dcc.Graph(\n",
    "    #     id=\"test-map\",\n",
    "    #     figure=fig_q1\n",
    "    # ),\n",
    "    dcc.Graph(\n",
    "        id=\"heatmap\",\n",
    "        figure=heatmap_fig\n",
    "    ),\n",
    "    dbc.Modal(\n",
    "        [\n",
    "            dbc.ModalHeader(dbc.ModalTitle(id=\"modal-text\", children=[\n",
    "                \"Placeholder\"\n",
    "            ]))\n",
    "        ],\n",
    "        id=\"modal-sm\",\n",
    "        size=\"sm\",\n",
    "        is_open=False,\n",
    "    )\n",
    "])\n",
    "\n",
    "# @callback(\n",
    "#     Output('hover-data', 'children'),\n",
    "#     Input('test-map', 'clickData')\n",
    "# )\n",
    "# def display_click_data(clickData):\n",
    "#     # return json.dumps(clickData, indent=2)[\"points\"][0]\n",
    "#     if clickData:\n",
    "#         country = clickData[\"points\"][0][\"location\"]\n",
    "#         return clickData[\"points\"][0][\"location\"]\n",
    "#     country = None\n",
    "#     return None\n",
    "\n",
    "@callback([\n",
    "        Output(\"modal-text\", \"children\"),\n",
    "        Output(\"modal-sm\", \"is_open\")\n",
    "    ],\n",
    "    [\n",
    "        Input(\"test-map\", \"clickData\")\n",
    "    ],\n",
    "    [\n",
    "        State(\"modal-sm\", \"is_open\")\n",
    "    ]\n",
    ")\n",
    "def update_modal(clickData, is_open):\n",
    "    # print(clickData)\n",
    "    if clickData:\n",
    "        return clickData[\"points\"][0][\"location\"], not is_open\n",
    "    return None, is_open\n",
    "    # return clickData\n",
    "\n",
    "# def toggle_modal(n1, is_open):\n",
    "#     if n1:\n",
    "#         print(is_open)\n",
    "#         return not is_open\n",
    "#     print(is_open)\n",
    "#     return is_open\n",
    "\n",
    "# app.callback(\n",
    "#     Output(\"modal-sm\", \"is_open\"),\n",
    "#     Input(\"open-sm\", \"n_clicks\"),\n",
    "#     State(\"modal-sm\", \"is_open\"),\n",
    "# )(toggle_modal)"
   ]
  },
  {
   "cell_type": "markdown",
   "id": "1f3256ea-5b78-4ad3-825d-e87955a80207",
   "metadata": {},
   "source": [
    "# Run Dash App"
   ]
  },
  {
   "cell_type": "code",
   "execution_count": null,
   "id": "3bb4e2be-99af-43c0-b7ba-6e461a39fd3b",
   "metadata": {},
   "outputs": [],
   "source": [
    "app.run_server(debug=True)"
   ]
  }
 ],
 "metadata": {
  "kernelspec": {
   "display_name": "Python 3 (ipykernel)",
   "language": "python",
   "name": "python3"
  },
  "language_info": {
   "codemirror_mode": {
    "name": "ipython",
    "version": 3
   },
   "file_extension": ".py",
   "mimetype": "text/x-python",
   "name": "python",
   "nbconvert_exporter": "python",
   "pygments_lexer": "ipython3",
   "version": "3.11.0"
  }
 },
 "nbformat": 4,
 "nbformat_minor": 5
}
