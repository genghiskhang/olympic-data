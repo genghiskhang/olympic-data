{
 "cells": [
  {
   "cell_type": "markdown",
   "id": "ac5e457b-0d2f-4044-9d7d-5be5a646749e",
   "metadata": {},
   "source": [
    "# Import Libraries"
   ]
  },
  {
   "cell_type": "code",
   "execution_count": null,
   "id": "2ebad9d2-9d87-43cb-9fa9-012813d8ba9a",
   "metadata": {},
   "outputs": [],
   "source": [
    "from dash import Dash, html, dcc, callback, Output, Input, State\n",
    "import dash_bootstrap_components as dbc\n",
    "import plotly.express as px\n",
    "import plotly.graph_objects as go\n",
    "from dash.exceptions import PreventUpdate\n",
    "\n",
    "import pandas as pd\n",
    "import numpy as np\n",
    "\n",
    "import json"
   ]
  },
  {
   "cell_type": "markdown",
   "id": "75e389f3-be75-4b97-bfe3-03aeba96f13c",
   "metadata": {},
   "source": [
    "# Initialize App "
   ]
  },
  {
   "cell_type": "code",
   "execution_count": null,
   "id": "7319c411-9219-41d2-81a4-3bf1a3882ceb",
   "metadata": {},
   "outputs": [],
   "source": [
    "app = Dash(\n",
    "    __name__,\n",
    "    external_stylesheets=[\n",
    "        dbc.themes.BOOTSTRAP,\n",
    "        dbc.icons.FONT_AWESOME\n",
    "    ]\n",
    ")"
   ]
  },
  {
   "cell_type": "markdown",
   "id": "ded4a7d9-4abd-45c3-aef3-2adf27a59e8e",
   "metadata": {},
   "source": [
    "# Load Data"
   ]
  },
  {
   "cell_type": "code",
   "execution_count": null,
   "id": "9dca788e-ff61-4673-8a4a-037b437ec536",
   "metadata": {},
   "outputs": [],
   "source": [
    "athlete_events_df = pd.read_csv(\"./assets/athlete_events.csv\")\n",
    "noc_regions_df = pd.read_csv(\"./assets/noc_regions.csv\")"
   ]
  },
  {
   "cell_type": "markdown",
   "id": "1bf9dc23-ff3c-4953-8a24-d353cf994880",
   "metadata": {},
   "source": [
    "# Total Medal Count by Height and Weight, grouped by Sport (Heatmap Figure)"
   ]
  },
  {
   "cell_type": "code",
   "execution_count": null,
   "id": "06c87f92-25a6-45e9-9747-b31afba2c8f5",
   "metadata": {},
   "outputs": [],
   "source": [
    "# Group medal counts by height and weight\n",
    "height_weight_medal_df = athlete_events_df.dropna(subset=[\"Height\", \"Weight\"])\n",
    "height_weight_medal_df = height_weight_medal_df.groupby([\"Sport\", \"Height\", \"Weight\"])[\"Medal\"].count().reset_index(name=\"Medal Count\")\n",
    "\n",
    "# List of medal counts by height and weight for each sport\n",
    "sports_df_list = {col:pd.pivot_table(sport, index=\"Height\", columns=\"Weight\", values=\"Medal Count\").fillna(0) for (col, sport) in height_weight_medal_df.groupby('Sport')}\n",
    "\n",
    "# Heatmap figure\n",
    "heatmap_fig = go.Figure(\n",
    "    data=go.Heatmap(\n",
    "        x=sports_df_list[\"Alpine Skiing\"].columns,\n",
    "        y=sports_df_list[\"Alpine Skiing\"].index,\n",
    "        z=sports_df_list[\"Alpine Skiing\"].values,\n",
    "        visible=True,\n",
    "        hovertemplate=\n",
    "            \"<b>%{x}cm-%{y}kg</b><br>\" +\n",
    "            \"Total Medals Won: %{z}<br>\"\n",
    "    )\n",
    ")\n",
    "heatmap_fig.update_layout(\n",
    "    title=\"Total Medals Won by Height and Weight in Alpine Skiing\"\n",
    ")\n",
    "\n",
    "# Add heatmap traces for each sport\n",
    "for key in sports_df_list.keys():\n",
    "    heatmap_fig.add_traces(\n",
    "        data=go.Heatmap(\n",
    "            x=sports_df_list[key].columns,\n",
    "            y=sports_df_list[key].index,\n",
    "            z=sports_df_list[key].values,\n",
    "            visible=False,\n",
    "            hovertemplate=\n",
    "                \"<b>%{x}kg-%{y}cm</b><br>\" +\n",
    "                \"Total Medals Won: %{z}<br>\"\n",
    "        )\n",
    "    )\n",
    "\n",
    "# Create dropdown option for each sport\n",
    "sports_options = []\n",
    "for i, key in enumerate(sports_df_list.keys()):\n",
    "    visible_list = [False] * len(sports_df_list.keys())\n",
    "    visible_list[i] = True\n",
    "    \n",
    "    sports_options.append(dict(\n",
    "        label=key,\n",
    "        method=\"update\",\n",
    "        args=[\n",
    "            {\"visible\":visible_list},\n",
    "            {\"title\":f\"Total Medals Won by Height and Weight in {key}\"}\n",
    "        ]\n",
    "    ))\n",
    "heatmap_fig.update_layout(\n",
    "    width=800,\n",
    "    height=600,\n",
    "    autosize=False,\n",
    "    xaxis=dict(title=\"Weight (kg)\"),\n",
    "    yaxis=dict(title=\"Height (cm)\"),\n",
    "    coloraxis=dict(\n",
    "        colorbar=dict(\n",
    "            title=\"Medals Won\"\n",
    "        )\n",
    "    ),\n",
    "    updatemenus=[dict(\n",
    "        active=0,\n",
    "        buttons=sports_options\n",
    "    )]\n",
    ")\n",
    "\n",
    "heatmap_fig.show()"
   ]
  },
  {
   "cell_type": "markdown",
   "id": "c5d94338-6de9-48ed-8e91-53e30c1924f0",
   "metadata": {},
   "source": [
    "# Interactive Map (Choropleth Figure)"
   ]
  },
  {
   "cell_type": "code",
   "execution_count": null,
   "id": "b78b8790-e5be-4983-b9c0-8eef12b2f559",
   "metadata": {},
   "outputs": [],
   "source": [
    "# Group total medals won by NOC, removing duplicates from individuals winning medals from team sports to only count one medal\n",
    "medals_country_df = athlete_events_df.dropna(subset=[\"Medal\"])\n",
    "medals_country_df = medals_country_df.drop_duplicates(subset=[\"NOC\", \"Games\", \"Year\", \"Season\", \"City\", \"Sport\", \"Event\", \"Medal\"])\n",
    "medals_country_df = medals_country_df.merge(noc_regions_df, on=\"NOC\", how=\"left\")\n",
    "medals_country_df = medals_country_df.groupby([\"region\", \"Medal\"])[\"Medal\"].count().unstack(fill_value=0).stack().reset_index(name=\"Medal Count\")\n",
    "medals_country_df = medals_country_df.groupby([\"region\"])[\"Medal Count\"].sum().reset_index(name=\"Total Medals\")\n",
    "\n",
    "# Choropleth figure\n",
    "choropleth_fig = px.choropleth(\n",
    "    medals_country_df,\n",
    "    title=\"Total Medals Won by Country\",\n",
    "    locations=\"region\",\n",
    "    locationmode=\"country names\",\n",
    "    hover_name=\"region\",\n",
    "    hover_data=dict(\n",
    "        region=False\n",
    "    ),\n",
    "    color=\"Total Medals\",\n",
    "    range_color=[0, 500],\n",
    "    color_continuous_scale=\"Viridis\",\n",
    "    projection=\"natural earth\"\n",
    ")\n",
    "\n",
    "choropleth_fig.show()"
   ]
  },
  {
   "cell_type": "markdown",
   "id": "8f836e35-e431-4714-bf52-2a2c1a6b8f04",
   "metadata": {},
   "source": [
    "# Country Data Drill-In"
   ]
  },
  {
   "cell_type": "code",
   "execution_count": null,
   "id": "0dd3defa-b98a-4e09-ac34-040c8fb7a905",
   "metadata": {},
   "outputs": [],
   "source": [
    "# Group total medals won by NOC, removing duplicates from individuals winning medals from team sports to only count one medal\n",
    "medals_distribution_df = athlete_events_df.dropna(subset=[\"Medal\"])\n",
    "medals_distribution_df = medals_distribution_df.drop_duplicates(subset=[\"NOC\", \"Games\", \"Year\", \"Season\", \"City\", \"Sport\", \"Event\", \"Medal\"])\n",
    "medals_distribution_df = medals_distribution_df.merge(noc_regions_df, on=\"NOC\", how=\"left\")\n",
    "medals_distribution_df = medals_distribution_df.groupby([\"region\", \"Medal\"])[\"Medal\"].count().unstack(fill_value=0).stack().reset_index(name=\"Medal Count\")\n",
    "\n",
    "# List of medals won by NOC\n",
    "noc_df_list = {col:noc for (col, noc) in medals_distribution_df.groupby(\"region\")}\n",
    "\n",
    "# Bar figure\n",
    "medals_fig_list = {}\n",
    "for key, noc in noc_df_list.items():\n",
    "    medals_fig_list[key] = go.Figure(\n",
    "        data=go.Bar(\n",
    "            x=noc[\"Medal\"],\n",
    "            y=noc[\"Medal Count\"]\n",
    "        )\n",
    "    )\n",
    "medals_fig_list"
   ]
  },
  {
   "cell_type": "markdown",
   "id": "164b363c-5927-471c-b8bc-3bfec4f543e9",
   "metadata": {},
   "source": [
    "# Dash Layout"
   ]
  },
  {
   "cell_type": "code",
   "execution_count": null,
   "id": "1da36ee4-6edd-4b3f-a07e-7cc8355b15da",
   "metadata": {},
   "outputs": [],
   "source": [
    "choropleth_fig.update_layout(clickmode='event+select')\n",
    "\n",
    "app.layout = html.Div([\n",
    "    dcc.Graph(\n",
    "        id=\"choropleth\",\n",
    "        figure=choropleth_fig\n",
    "    ),\n",
    "    dcc.Graph(\n",
    "        id=\"heatmap\",\n",
    "        figure=heatmap_fig\n",
    "    ),\n",
    "    dbc.Modal([\n",
    "        dbc.ModalHeader(dbc.ModalTitle(id=\"modal-text\", children=[\n",
    "            \"Placeholder\"\n",
    "        ])),\n",
    "        dcc.Graph(\n",
    "            id=\"drill-in\",\n",
    "            figure=medals_fig_list[\"USA\"]\n",
    "        )],\n",
    "        id=\"modal-sm\",\n",
    "        size=\"sm\",\n",
    "        is_open=False,\n",
    "    )\n",
    "])\n",
    "\n",
    "@callback([\n",
    "        Output(\"modal-text\", \"children\"),\n",
    "        Output(\"modal-sm\", \"is_open\"),\n",
    "        Output(\"drill-in\", \"figure\")\n",
    "    ],\n",
    "    [Input(\"choropleth\", \"clickData\")],\n",
    "    [\n",
    "        State(\"modal-sm\", \"is_open\"),\n",
    "        State(\"drill-in\", \"figure\")\n",
    "    ]\n",
    ")\n",
    "def update_modal(clickData, is_open, figure):\n",
    "    if clickData is None:\n",
    "        raise PreventUpdate\n",
    "    if is_open is None:\n",
    "        raise PreventUpdate\n",
    "    if figure is None:\n",
    "        raise PreventUpdate\n",
    "        \n",
    "    if clickData:\n",
    "        print(medals_fig_list[clickData[\"points\"][0][\"hovertext\"]])\n",
    "        return clickData[\"points\"][0][\"location\"], not is_open, medals_fig_list[clickData[\"points\"][0][\"hovertext\"]]\n",
    "    return None, is_open, None"
   ]
  },
  {
   "cell_type": "markdown",
   "id": "1f3256ea-5b78-4ad3-825d-e87955a80207",
   "metadata": {},
   "source": [
    "# Run Dash App"
   ]
  },
  {
   "cell_type": "code",
   "execution_count": null,
   "id": "3bb4e2be-99af-43c0-b7ba-6e461a39fd3b",
   "metadata": {},
   "outputs": [],
   "source": [
    "app.run_server(debug=True)"
   ]
  }
 ],
 "metadata": {
  "kernelspec": {
   "display_name": "Python 3 (ipykernel)",
   "language": "python",
   "name": "python3"
  },
  "language_info": {
   "codemirror_mode": {
    "name": "ipython",
    "version": 3
   },
   "file_extension": ".py",
   "mimetype": "text/x-python",
   "name": "python",
   "nbconvert_exporter": "python",
   "pygments_lexer": "ipython3",
   "version": "3.11.0"
  }
 },
 "nbformat": 4,
 "nbformat_minor": 5
}
